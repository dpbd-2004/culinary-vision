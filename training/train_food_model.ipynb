{
 "cells": [
  {
   "cell_type": "code",
   "execution_count": null,
   "id": "31c2a01c",
   "metadata": {},
   "outputs": [],
   "source": [
    "# In train_food_model.ipynb\n",
    "\n",
    "# 1. Import the YOLO model\n",
    "from ultralytics import YOLO\n",
    "import torch\n",
    "\n",
    "# Check if a GPU is available and set the device\n",
    "device = 'cuda' if torch.cuda.is_available() else 'cpu'\n",
    "print(f\"Using device: {device}\")\n",
    "\n",
    "# 2. Load the base model\n",
    "# We start with 'yolov8n.pt', our base pre-trained model.\n",
    "model = YOLO('yolov8n.pt')\n",
    "model.to(device) # Move model to GPU if available\n",
    "\n",
    "# 3. Train the model on the built-in coco128 dataset\n",
    "# ==============================================================================\n",
    "# THIS IS THE KEY CHANGE.\n",
    "# By providing the name 'coco128.yaml', the ultralytics library will\n",
    "# AUTOMATICALLY download and prepare this standard sample dataset for you.\n",
    "# There are no external links to break. This is a reliable, built-in feature.\n",
    "# ==============================================================================\n",
    "results = model.train(\n",
    "    data='coco128.yaml',  # This will trigger the automatic download\n",
    "    epochs=50,           # We'll train for 50 epochs\n",
    "    imgsz=640,           # Image size\n",
    "    project='training_results',\n",
    "    name='finetuned_coco128_v1' # Giving it a new, clear name\n",
    ")\n",
    "\n",
    "print(\"Training complete! The fine-tuned model is saved as best.pt in the 'training_results' directory.\")"
   ]
  }
 ],
 "metadata": {
  "kernelspec": {
   "display_name": "venv (3.10.4)",
   "language": "python",
   "name": "python3"
  },
  "language_info": {
   "name": "python",
   "version": "3.10.4"
  }
 },
 "nbformat": 4,
 "nbformat_minor": 5
}
